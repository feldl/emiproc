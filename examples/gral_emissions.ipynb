{
 "cells": [
  {
   "cell_type": "markdown",
   "metadata": {},
   "source": [
    "Shows how to generate and visualize emissions data for the GRAL model."
   ]
  },
  {
   "cell_type": "code",
   "execution_count": null,
   "metadata": {},
   "outputs": [],
   "source": [
    "# Small test inventory for saving to gral format\n",
    "import logging\n",
    "import geopandas as gpd\n",
    "import numpy as np\n",
    "from shapely.geometry import Point, LineString, Polygon, MultiPolygon, MultiLineString\n",
    "from emiproc.inventories import Inventory, EmissionInfo\n",
    "from emiproc.tests_utils.test_inventories import inv_with_pnt_sources\n",
    "from emiproc.tests_utils import TEST_OUTPUTS_DIR\n",
    "from emiproc.exports.gral import export_to_gral\n",
    "\n",
    "gral_test_inv = inv_with_pnt_sources.copy()\n",
    "# Addintg some shapes that should be supported\n",
    "gral_test_inv.gdfs[\"adf\"] = gpd.GeoDataFrame(\n",
    "    {\n",
    "        \"CO2\": [1, 2, 1, 3, 1],\n",
    "        \"CH4\": [3, 1, 1, 1, 1],\n",
    "    },\n",
    "    geometry=[\n",
    "        LineString([(0.75, 0.75), (1.25, 1.25), (2.25, 1.25)]),\n",
    "        Polygon([(0.25, 0.25), (0.75, 0.75), (0.25, 0.75)]),\n",
    "        MultiPolygon(\n",
    "            [\n",
    "                # Square from 2 to 4 \n",
    "                Polygon([(2, 2), (4, 2), (4, 4), (2, 4)]),\n",
    "                # Sqare from 5 to 6\n",
    "                Polygon([(5, 5), (6, 5), (6, 6), (5, 6)]),\n",
    "                # A triangle from 8 to 12 \n",
    "                Polygon([(8, 8), (12, 8), (12, 12)]),\n",
    "            ]\n",
    "        ),\n",
    "        MultiLineString(\n",
    "            [\n",
    "                LineString([(0.25, 0.25), (0.75, 0.75), (3.25, 1.25)]),\n",
    "                LineString([(0.75, 0.75), (0.5, 0.25)]),\n",
    "            ]\n",
    "        ),\n",
    "        Point(0.5, 0.5),\n",
    "    ],\n",
    ")\n",
    "\n",
    "from pygg.grids import GralGrid\n",
    "\n",
    "inv = gral_test_inv\n",
    "\n",
    "grid = GralGrid(\n",
    "    dz=1.5,\n",
    "    stretch=0.5,\n",
    "    nx=20,\n",
    "    ny=20,\n",
    "    nslice=20,\n",
    "    sourcegroups=\"\",\n",
    "    xmin=0,\n",
    "    xmax=10,\n",
    "    ymin=0,\n",
    "    ymax=4,\n",
    "    latitude=0,\n",
    "    crs=inv.crs,\n",
    ")\n",
    "grid.building_heights = np.zeros((grid.ny, grid.nx))\n",
    "\n",
    "inv.emission_infos = {\n",
    "    \"adf\": EmissionInfo(),\n",
    "    \"blek\": EmissionInfo(),\n",
    "    \"liku\": EmissionInfo(),\n",
    "    \"other\": EmissionInfo(),\n",
    "    \"test\": EmissionInfo(),\n",
    "}\n",
    "\n",
    "export_to_gral(inv, grid, TEST_OUTPUTS_DIR, 1)\n"
   ]
  },
  {
   "attachments": {},
   "cell_type": "markdown",
   "metadata": {},
   "source": [
    "Visualize the generated outputs"
   ]
  },
  {
   "cell_type": "code",
   "execution_count": null,
   "metadata": {},
   "outputs": [],
   "source": [
    "from emiproc.tests_utils import TEST_OUTPUTS_DIR\n",
    "from emiproc.inventories.gral import GralInventory\n",
    "from emiproc.grids import LV95\n",
    "\n",
    "emissions_dir = TEST_OUTPUTS_DIR\n",
    "inv = GralInventory(emissions_dir)"
   ]
  },
  {
   "cell_type": "code",
   "execution_count": null,
   "metadata": {},
   "outputs": [],
   "source": [
    "from emiproc.plots import explore_inventory"
   ]
  },
  {
   "cell_type": "code",
   "execution_count": null,
   "metadata": {},
   "outputs": [],
   "source": [
    "explore_inventory(inv, inv.categories[0], inv.substances[0])"
   ]
  },
  {
   "cell_type": "code",
   "execution_count": null,
   "metadata": {},
   "outputs": [],
   "source": []
  }
 ],
 "metadata": {
  "kernelspec": {
   "display_name": "gg",
   "language": "python",
   "name": "python3"
  },
  "language_info": {
   "codemirror_mode": {
    "name": "ipython",
    "version": 3
   },
   "file_extension": ".py",
   "mimetype": "text/x-python",
   "name": "python",
   "nbconvert_exporter": "python",
   "pygments_lexer": "ipython3",
   "version": "3.9.4 (default, Aug 13 2021, 12:30:13) \n[GCC 8.1.0 20180502 (Cray Inc.)]"
  },
  "vscode": {
   "interpreter": {
    "hash": "7ab36ef73bd21dcce2bcf3d10654d44cbd88dac2512a67ec53da89bb59809577"
   }
  }
 },
 "nbformat": 4,
 "nbformat_minor": 2
}
